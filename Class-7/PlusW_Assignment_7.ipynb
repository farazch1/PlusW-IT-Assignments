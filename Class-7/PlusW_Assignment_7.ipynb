{
  "cells": [
    {
      "cell_type": "markdown",
      "metadata": {
        "id": "cjJD40ooBBxB"
      },
      "source": [
        "#**TASK - 01**"
      ]
    },
    {
      "cell_type": "code",
      "execution_count": 1,
      "metadata": {
        "id": "JoFceB0dUlb2"
      },
      "outputs": [],
      "source": [
        "import pandas as pd\n",
        "import numpy as np\n",
        "import matplotlib.pyplot as plt\n",
        "import seaborn as sns\n",
        "from sklearn.model_selection import train_test_split\n",
        "from sklearn.linear_model import LinearRegression\n",
        "from sklearn.metrics import mean_squared_error, r2_score"
      ]
    },
    {
      "cell_type": "code",
      "execution_count": 2,
      "metadata": {
        "id": "XMwEupuaVWIB"
      },
      "outputs": [],
      "source": [
        "df = pd.read_csv('house_data.csv')"
      ]
    },
    {
      "cell_type": "code",
      "execution_count": 3,
      "metadata": {
        "id": "HKKKkY9lEKa6"
      },
      "outputs": [],
      "source": [
        "# Missing Value Handling\n",
        "\n",
        "for col in df.columns:\n",
        "    if df[col].dtype in ['float64', 'int64']:\n",
        "        df[col] = df[col].fillna(df[col].median())\n",
        "    else:\n",
        "        df[col] = df[col].fillna(df[col].mode()[0])"
      ]
    },
    {
      "cell_type": "code",
      "execution_count": 4,
      "metadata": {
        "colab": {
          "base_uri": "https://localhost:8080/"
        },
        "id": "ES-jI6wcB4O4",
        "outputId": "ab67c2ce-2a85-4269-f372-4d4f96764ee1"
      },
      "outputs": [
        {
          "name": "stdout",
          "output_type": "stream",
          "text": [
            "Non-numeric columns: ['municipality_name', 'object_type_name']\n"
          ]
        }
      ],
      "source": [
        "# Check for non-numeric columns (excluding the target variable 'price')\n",
        "non_numeric_columns = df.select_dtypes(include=['object']).columns.tolist()\n",
        "\n",
        "print(f\"Non-numeric columns: {non_numeric_columns}\")"
      ]
    },
    {
      "cell_type": "code",
      "execution_count": 5,
      "metadata": {
        "colab": {
          "base_uri": "https://localhost:8080/"
        },
        "id": "bET5SKYDVvXB",
        "outputId": "49877125-cd51-42e3-9dbd-e000f49fa003"
      },
      "outputs": [
        {
          "name": "stdout",
          "output_type": "stream",
          "text": [
            "Model Evaluation:\n",
            "MSE: 149210817252.16, R-squared: 0.49\n"
          ]
        }
      ],
      "source": [
        "\n",
        "# Convert categorical columns to numerical using one-hot encoding\n",
        "if non_numeric_columns:\n",
        "  df = pd.get_dummies(df, columns=non_numeric_columns, drop_first=True)\n",
        "# Ensure 'price' column exists\n",
        "if 'price' not in df.columns:\n",
        "  raise KeyError(\"The dataset does not contain a 'price' column. Please check the CSV file.\")\n",
        "# Define features (X) and target (y)\n",
        "X = df.drop(columns=['price']) # Features (all except target)\n",
        "y = df['price'] # Target variable\n",
        "# Ensure all feature columns are numeric\n",
        "if not np.issubdtype(X.dtypes.values[0], np.number):\n",
        "  raise ValueError(\"Some features are still non-numeric. Check the dataset preprocessing.\")\n",
        "# Split dataset\n",
        "X_train, X_test, y_train, y_test = train_test_split(X, y, test_size=0.2, random_state=42)\n",
        "# Train model\n",
        "model = LinearRegression()\n",
        "model.fit(X_train, y_train)\n",
        "# Predictions\n",
        "y_pred = model.predict(X_test)\n",
        "# Evaluate model\n",
        "mse = mean_squared_error(y_test, y_pred)\n",
        "r2 = r2_score(y_test, y_pred)\n",
        "print(f'Model Evaluation:\\nMSE: {mse:.2f}, R-squared: {r2:.2f}')"
      ]
    },
    {
      "cell_type": "code",
      "execution_count": 6,
      "metadata": {
        "colab": {
          "base_uri": "https://localhost:8080/"
        },
        "id": "1uQeTh0jB5Lw",
        "outputId": "fc000c01-ebbc-4ace-892b-9ec7f7c6f454"
      },
      "outputs": [
        {
          "name": "stdout",
          "output_type": "stream",
          "text": [
            " Adjusted R-squared: 0.09\n"
          ]
        }
      ],
      "source": [
        "# Calculate Adjusted R-squared\n",
        "n = X_test.shape[0]\n",
        "p = X_test.shape[1]\n",
        "adjusted_r2 = 1 - (1 - r2) * (n - 1) / (n - p - 1)\n",
        "print(f' Adjusted R-squared: {adjusted_r2:.2f}')"
      ]
    },
    {
      "cell_type": "markdown",
      "metadata": {
        "id": "lscpWHTccbWH"
      },
      "source": [
        "**TASK - 02**"
      ]
    },
    {
      "cell_type": "code",
      "execution_count": 7,
      "metadata": {
        "id": "-tmXp3hxcM5D"
      },
      "outputs": [],
      "source": [
        "# Load dataset (Replace 'salary_data.csv' with an actual dataset)\n",
        "df = pd.read_csv('salary_data.csv')\n",
        "# Preprocess data\n",
        "df.dropna(inplace=True)\n",
        "# Identify categorical columns"
      ]
    },
    {
      "cell_type": "code",
      "execution_count": 13,
      "metadata": {
        "colab": {
          "base_uri": "https://localhost:8080/",
          "height": 616
        },
        "id": "3fGA9Bzsdsx0",
        "outputId": "17eeb041-c569-4a48-8f08-de646f1fe94c"
      },
      "outputs": [
        {
          "name": "stdout",
          "output_type": "stream",
          "text": [
            "Best parameters from grid search: {'alpha': 1.0}\n",
            "MSE: 49974852.71999636, R-squared: 0.9021627846740266\n",
            "Predicted Salary for sample input: 115582.53212303581\n",
            "Model saved successfully!\n"
          ]
        },
        {
          "data": {
            "image/png": "[encoded data removed]",
            "text/plain": [
              "<Figure size 800x600 with 1 Axes>"
            ]
          },
          "metadata": {},
          "output_type": "display_data"
        }
      ],
      "source": [
        "import pandas as pd\n",
        "import numpy as np\n",
        "import matplotlib.pyplot as plt\n",
        "import seaborn as sns\n",
        "from sklearn.model_selection import train_test_split, GridSearchCV\n",
        "from sklearn.linear_model import Ridge\n",
        "from sklearn.metrics import mean_squared_error, r2_score\n",
        "import joblib\n",
        "\n",
        "# Load dataset (Replace 'salary_data.csv' with your actual dataset)\n",
        "df = pd.read_csv('salary_data.csv')\n",
        "\n",
        "# Preprocess data: Drop rows with missing values\n",
        "df.dropna(inplace=True)\n",
        "\n",
        "# Identify categorical columns and apply one-hot encoding if they exist\n",
        "categorical_columns = ['degree', 'job_role', 'location']\n",
        "existing_categorical_columns = [col for col in categorical_columns if col in df.columns]\n",
        "if existing_categorical_columns:\n",
        "    df = pd.get_dummies(df, columns=existing_categorical_columns, drop_first=True)\n",
        "\n",
        "# Define features and target variable\n",
        "if 'Salary' in df.columns:\n",
        "    X = df.drop(columns=['Salary'])\n",
        "    y = df['Salary']\n",
        "\n",
        "    # Split dataset into training and testing sets\n",
        "    X_train, X_test, y_train, y_test = train_test_split(X, y, test_size=0.2, random_state=42)\n",
        "\n",
        "    # --- Model Tuning ---\n",
        "    # Use Ridge Regression and tune the regularization strength 'alpha' using GridSearchCV\n",
        "    param_grid = {'alpha': [0.1, 1.0, 10.0, 100.0]}\n",
        "    ridge = Ridge()\n",
        "    grid_search = GridSearchCV(ridge, param_grid, cv=5, scoring='r2')\n",
        "    grid_search.fit(X_train, y_train)\n",
        "    print(\"Best parameters from grid search:\", grid_search.best_params_)\n",
        "\n",
        "    # Use the best estimator for further predictions\n",
        "    model = grid_search.best_estimator_\n",
        "    y_pred = model.predict(X_test)\n",
        "\n",
        "    # Evaluate the model\n",
        "    mse = mean_squared_error(y_test, y_pred)\n",
        "    r2 = r2_score(y_test, y_pred)\n",
        "    print(f'MSE: {mse}, R-squared: {r2}')\n",
        "\n",
        "    # Example prediction using the first sample from the test set\n",
        "    sample_input = X_test.iloc[[0]]  # maintain feature names\n",
        "    predicted_salary = model.predict(sample_input)\n",
        "    print(f'Predicted Salary for sample input: {predicted_salary[0]}')\n",
        "\n",
        "    # --- Save the model ---\n",
        "    # Save both the trained model and the feature names needed for prediction.\n",
        "    model_data = {\n",
        "         'model': model,\n",
        "         'features': list(X.columns)\n",
        "    }\n",
        "    joblib.dump(model_data, 'salary_model.joblib')\n",
        "    print(\"Model saved successfully!\")\n",
        "\n",
        "    # --- Visualization: Regression Line (optional) ---\n",
        "    if 'experience' in X.columns:\n",
        "        plt.figure(figsize=(8, 6))\n",
        "        sns.scatterplot(x=df['experience'], y=df['Salary'], alpha=0.5)\n",
        "        \n",
        "        # Create a range of experience values for plotting the regression line\n",
        "        x_range = np.linspace(df['experience'].min(), df['experience'].max(), 100)\n",
        "        # For each value in x_range, set other features to their mean\n",
        "        input_df = pd.DataFrame({col: [X[col].mean()] * 100 for col in X.columns})\n",
        "        input_df['experience'] = x_range\n",
        "        y_line = model.predict(input_df)\n",
        "        \n",
        "        plt.plot(x_range, y_line, color='red', label='Regression Line')\n",
        "        plt.xlabel('Experience')\n",
        "        plt.ylabel('Salary')\n",
        "        plt.title('Salary vs Experience with Regression Line')\n",
        "        plt.legend()\n",
        "        plt.show()\n",
        "    else:\n",
        "        plt.figure(figsize=(8, 6))\n",
        "        sns.scatterplot(x=y_test, y=y_pred)\n",
        "        plt.plot([y_test.min(), y_test.max()], [y_test.min(), y_test.max()], 'r--')\n",
        "        plt.xlabel('Actual Salary')\n",
        "        plt.ylabel('Predicted Salary')\n",
        "        plt.title('Actual vs Predicted Salary')\n",
        "        plt.show()\n",
        "\n",
        "else:\n",
        "    print(\"Error: The 'Salary' column is missing from the dataset.\")\n"
      ]
    },
    {
      "cell_type": "code",
      "execution_count": null,
      "metadata": {
        "colab": {
          "base_uri": "https://localhost:8080/"
        },
        "id": "bVKKPog5g2ac",
        "outputId": "4d282a40-ae22-4a96-8ffc-9d99fbbac6ef"
      },
      "outputs": [
        {
          "name": "stdout",
          "output_type": "stream",
          "text": [
            "^C\n"
          ]
        }
      ],
      "source": [
        "!streamlit run salary_app.py"
      ]
    },
    {
      "cell_type": "markdown",
      "metadata": {},
      "source": [
        "**TASK - 03**"
      ]
    },
    {
      "cell_type": "code",
      "execution_count": 16,
      "metadata": {
        "id": "QjyyUYcChGJy"
      },
      "outputs": [
        {
          "name": "stdout",
          "output_type": "stream",
          "text": [
            "MSE: 8.457743981913767, R-squared: 0.9948083075771014, Adjusted R-squared: 0.9947452505841107\n",
            "Model saved successfully as 'stock_model.joblib'.\n"
          ]
        }
      ],
      "source": [
        "import pandas as pd\n",
        "import numpy as np\n",
        "import matplotlib.pyplot as plt\n",
        "import seaborn as sns\n",
        "import yfinance as yf\n",
        "from sklearn.model_selection import train_test_split\n",
        "from sklearn.linear_model import LinearRegression\n",
        "from sklearn.metrics import mean_squared_error, r2_score\n",
        "import joblib\n",
        "\n",
        "# Function to fetch stock data and perform feature engineering\n",
        "def get_stock_data(ticker):\n",
        "    stock = yf.Ticker(ticker)\n",
        "    df = stock.history(period='5y')\n",
        "    df = df[['Close', 'Volume']].dropna()\n",
        "    df['Day'] = np.arange(len(df))\n",
        "    # Add a 5-day moving average (MA5) of the Close price as an additional feature\n",
        "    df['MA5'] = df['Close'].rolling(window=5).mean()\n",
        "    df.dropna(inplace=True)\n",
        "    return df\n",
        "\n",
        "# Load dataset for a given ticker symbol (e.g., AAPL)\n",
        "ticker = 'AAPL'\n",
        "df = get_stock_data(ticker)\n",
        "\n",
        "# Define features and target variable\n",
        "X = df[['Day', 'Volume', 'MA5']]\n",
        "y = df['Close']\n",
        "\n",
        "# Split dataset into training and testing sets\n",
        "X_train, X_test, y_train, y_test = train_test_split(X, y, test_size=0.2, random_state=42)\n",
        "\n",
        "# Train the linear regression model\n",
        "model = LinearRegression()\n",
        "model.fit(X_train, y_train)\n",
        "\n",
        "# Make predictions on the test set\n",
        "y_pred = model.predict(X_test)\n",
        "\n",
        "# Evaluate model performance\n",
        "mse = mean_squared_error(y_test, y_pred)\n",
        "r2 = r2_score(y_test, y_pred)\n",
        "n = len(y_test)         # number of observations\n",
        "p = X_test.shape[1]     # number of predictors\n",
        "adjusted_r2 = 1 - (1 - r2) * (n - 1) / (n - p - 1)\n",
        "\n",
        "print(f'MSE: {mse}, R-squared: {r2}, Adjusted R-squared: {adjusted_r2}')\n",
        "\n",
        "# Save the trained model along with the feature names using joblib\n",
        "model_data = {\n",
        "    'model': model,\n",
        "    'features': list(X.columns)\n",
        "}\n",
        "joblib.dump(model_data, 'stock_model.joblib')\n",
        "print(\"Model saved successfully as 'stock_model.joblib'.\")\n"
      ]
    },
    {
      "cell_type": "code",
      "execution_count": 17,
      "metadata": {},
      "outputs": [
        {
          "name": "stdout",
          "output_type": "stream",
          "text": [
            "^C\n"
          ]
        }
      ],
      "source": [
        "!streamlit run stocks_app.py"
      ]
    }
  ],
  "metadata": {
    "colab": {
      "provenance": []
    },
    "kernelspec": {
      "display_name": "Python 3",
      "name": "python3"
    },
    "language_info": {
      "codemirror_mode": {
        "name": "ipython",
        "version": 3
      },
      "file_extension": ".py",
      "mimetype": "text/x-python",
      "name": "python",
      "nbconvert_exporter": "python",
      "pygments_lexer": "ipython3",
      "version": "3.13.2"
    }
  },
  "nbformat": 4,
  "nbformat_minor": 0
}
