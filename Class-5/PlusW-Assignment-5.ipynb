{
 "cells": [
  {
   "cell_type": "code",
   "execution_count": null,
   "metadata": {},
   "outputs": [],
   "source": [
    "#-------------------------------------------------------------------TASK 1 -------------------------------------------------------------------"
   ]
  },
  {
   "cell_type": "code",
   "execution_count": 1,
   "metadata": {},
   "outputs": [],
   "source": [
    "import os\n",
    "import glob\n",
    "import shutil\n",
    "import pandas as pd"
   ]
  },
  {
   "cell_type": "code",
   "execution_count": null,
   "metadata": {},
   "outputs": [
    {
     "name": "stdout",
     "output_type": "stream",
     "text": [
      "c:\\Users\\mianf\\Desktop\\Assigmnetn 5 IT\\csv_files\n"
     ]
    }
   ],
   "source": [
    "# 3. Change directory to 'csv_files' so glob picks them up\n",
    "os.chdir(\"csv_files\")"
   ]
  },
  {
   "cell_type": "code",
   "execution_count": 8,
   "metadata": {},
   "outputs": [
    {
     "name": "stdout",
     "output_type": "stream",
     "text": [
      "Moved file: continent.csv\n",
      "Moved file: language.csv\n",
      "Moved file: locations.csv\n"
     ]
    }
   ],
   "source": [
    "# Move all CSV files to backup folder\n",
    "csv_files = glob.glob(\"*.csv\")\n",
    "for file in csv_files:\n",
    "    shutil.move(file, \"../backup_folder\")\n",
    "    print(f\"Moved file: {file}\")"
   ]
  },
  {
   "cell_type": "code",
   "execution_count": 9,
   "metadata": {},
   "outputs": [],
   "source": [
    "# Automating Export\n",
    "def export_data(df, filename, format):\n",
    "    if format == \"csv\":\n",
    "        df.to_csv(filename, index=False)\n",
    "        print(f\"Data exported to {filename} in CSV format.\")\n",
    "    elif format == \"json\":\n",
    "        df.to_json(filename, orient=\"records\")\n",
    "        print(f\"Data exported to {filename} in JSON format.\")\n",
    "    else:\n",
    "        print(\"Unsupported format.\")"
   ]
  },
  {
   "cell_type": "code",
   "execution_count": 10,
   "metadata": {},
   "outputs": [
    {
     "name": "stdout",
     "output_type": "stream",
     "text": [
      "Data exported to output.csv in CSV format.\n",
      "Data exported to output.json in JSON format.\n"
     ]
    }
   ],
   "source": [
    "# Example usage:\n",
    "# Creating a sample dataframe\n",
    "data = {\n",
    "    'Name': ['Alice', 'Bob', 'Charlie'],\n",
    "    'Age': [25, 30, 35],\n",
    "    'City': ['New York', 'Los Angeles', 'Chicago']\n",
    "}\n",
    "df = pd.DataFrame(data)\n",
    "\n",
    "# Exporting to CSV\n",
    "export_data(df, \"output.csv\", \"csv\")\n",
    "\n",
    "# Exporting to JSON\n",
    "export_data(df, \"output.json\", \"json\")"
   ]
  },
  {
   "cell_type": "code",
   "execution_count": null,
   "metadata": {},
   "outputs": [],
   "source": [
    "#-------------------------------------------------------------------TASK 2 -------------------------------------------------------------------"
   ]
  },
  {
   "cell_type": "code",
   "execution_count": null,
   "metadata": {},
   "outputs": [
    {
     "name": "stdout",
     "output_type": "stream",
     "text": [
      "Requirement already satisfied: yfinance in c:\\users\\mianf\\appdata\\local\\programs\\python\\python312\\lib\\site-packages (0.2.54)\n",
      "Requirement already satisfied: pandas>=1.3.0 in c:\\users\\mianf\\appdata\\local\\programs\\python\\python312\\lib\\site-packages (from yfinance) (2.2.3)\n",
      "Requirement already satisfied: numpy>=1.16.5 in c:\\users\\mianf\\appdata\\local\\programs\\python\\python312\\lib\\site-packages (from yfinance) (2.1.3)\n",
      "Requirement already satisfied: requests>=2.31 in c:\\users\\mianf\\appdata\\local\\programs\\python\\python312\\lib\\site-packages (from yfinance) (2.32.3)\n",
      "Requirement already satisfied: multitasking>=0.0.7 in c:\\users\\mianf\\appdata\\local\\programs\\python\\python312\\lib\\site-packages (from yfinance) (0.0.11)\n",
      "Requirement already satisfied: platformdirs>=2.0.0 in c:\\users\\mianf\\appdata\\roaming\\python\\python312\\site-packages (from yfinance) (4.3.6)\n",
      "Requirement already satisfied: pytz>=2022.5 in c:\\users\\mianf\\appdata\\local\\programs\\python\\python312\\lib\\site-packages (from yfinance) (2024.2)\n",
      "Requirement already satisfied: frozendict>=2.3.4 in c:\\users\\mianf\\appdata\\local\\programs\\python\\python312\\lib\\site-packages (from yfinance) (2.4.6)\n",
      "Requirement already satisfied: peewee>=3.16.2 in c:\\users\\mianf\\appdata\\local\\programs\\python\\python312\\lib\\site-packages (from yfinance) (3.17.9)\n",
      "Requirement already satisfied: beautifulsoup4>=4.11.1 in c:\\users\\mianf\\appdata\\local\\programs\\python\\python312\\lib\\site-packages (from yfinance) (4.12.3)\n",
      "Requirement already satisfied: soupsieve>1.2 in c:\\users\\mianf\\appdata\\local\\programs\\python\\python312\\lib\\site-packages (from beautifulsoup4>=4.11.1->yfinance) (2.6)\n",
      "Requirement already satisfied: python-dateutil>=2.8.2 in c:\\users\\mianf\\appdata\\local\\programs\\python\\python312\\lib\\site-packages (from pandas>=1.3.0->yfinance) (2.9.0.post0)\n",
      "Requirement already satisfied: tzdata>=2022.7 in c:\\users\\mianf\\appdata\\local\\programs\\python\\python312\\lib\\site-packages (from pandas>=1.3.0->yfinance) (2024.2)\n",
      "Requirement already satisfied: charset-normalizer<4,>=2 in c:\\users\\mianf\\appdata\\local\\programs\\python\\python312\\lib\\site-packages (from requests>=2.31->yfinance) (3.4.0)\n",
      "Requirement already satisfied: idna<4,>=2.5 in c:\\users\\mianf\\appdata\\local\\programs\\python\\python312\\lib\\site-packages (from requests>=2.31->yfinance) (3.10)\n",
      "Requirement already satisfied: urllib3<3,>=1.21.1 in c:\\users\\mianf\\appdata\\local\\programs\\python\\python312\\lib\\site-packages (from requests>=2.31->yfinance) (2.2.3)\n",
      "Requirement already satisfied: certifi>=2017.4.17 in c:\\users\\mianf\\appdata\\local\\programs\\python\\python312\\lib\\site-packages (from requests>=2.31->yfinance) (2024.8.30)\n",
      "Requirement already satisfied: six>=1.5 in c:\\users\\mianf\\appdata\\local\\programs\\python\\python312\\lib\\site-packages (from python-dateutil>=2.8.2->pandas>=1.3.0->yfinance) (1.17.0)\n"
     ]
    }
   ],
   "source": [
    "!pip install yfinance"
   ]
  },
  {
   "cell_type": "code",
   "execution_count": 2,
   "metadata": {},
   "outputs": [],
   "source": [
    "import yfinance as yf\n",
    "import sqlite3\n",
    "import time"
   ]
  },
  {
   "cell_type": "code",
   "execution_count": 3,
   "metadata": {},
   "outputs": [],
   "source": [
    "# Database setup\n",
    "db_name = \"stocks.db\"\n",
    "conn = sqlite3.connect(db_name)\n",
    "cursor = conn.cursor()\n",
    "\n",
    "cursor.execute('''\n",
    "CREATE TABLE IF NOT EXISTS stock_data (\n",
    "    id INTEGER PRIMARY KEY AUTOINCREMENT,\n",
    "    symbol TEXT,\n",
    "    timestamp DATETIME DEFAULT CURRENT_TIMESTAMP,\n",
    "    open REAL,\n",
    "    high REAL,\n",
    "    low REAL,\n",
    "    close REAL,\n",
    "    volume INTEGER\n",
    ")\n",
    "''')\n",
    "conn.commit()"
   ]
  },
  {
   "cell_type": "code",
   "execution_count": 4,
   "metadata": {},
   "outputs": [],
   "source": [
    "\n",
    "# Function to fetch stock data\n",
    "def fetch_stock_data(symbol):\n",
    "    try:\n",
    "        stock = yf.Ticker(symbol)\n",
    "        data = stock.history(period=\"1d\", interval=\"1m\")\n",
    "\n",
    "        if data.empty:\n",
    "            print(f\"No data found for {symbol}. Skipping...\")\n",
    "            return None\n",
    "\n",
    "        latest = data.iloc[-1]  # Most recent row\n",
    "        return {\n",
    "            \"symbol\": symbol,\n",
    "            \"open\": latest[\"Open\"],\n",
    "            \"high\": latest[\"High\"],\n",
    "            \"low\": latest[\"Low\"],\n",
    "            \"close\": latest[\"Close\"],\n",
    "            \"volume\": latest[\"Volume\"]\n",
    "        }\n",
    "    except Exception as e:\n",
    "        print(f\"Error fetching data for {symbol}: {e}\")\n",
    "        return None\n",
    "\n",
    "# Function to store data in SQLite\n",
    "def store_data(symbol):\n",
    "    stock_data = fetch_stock_data(symbol)\n",
    "    if stock_data:\n",
    "        cursor.execute('''\n",
    "            INSERT INTO stock_data (symbol, open, high, low, close, volume)\n",
    "            VALUES (?, ?, ?, ?, ?, ?)\n",
    "        ''',\n",
    "        (stock_data[\"symbol\"], stock_data[\"open\"], stock_data[\"high\"],\n",
    "         stock_data[\"low\"], stock_data[\"close\"], stock_data[\"volume\"]))\n",
    "        conn.commit()\n",
    "        print(f\"Stored data for {symbol}\")\n",
    "\n",
    "# Function to analyze stock data\n",
    "def analyze_stock(symbol):\n",
    "    df = pd.read_sql_query(\n",
    "        \"SELECT * FROM stock_data WHERE symbol=? ORDER BY timestamp DESC LIMIT 100\",\n",
    "        conn,\n",
    "        params=(symbol,)\n",
    "    )\n",
    "    print(df)\n",
    "\n",
    "\n"
   ]
  },
  {
   "cell_type": "code",
   "execution_count": 5,
   "metadata": {},
   "outputs": [
    {
     "name": "stdout",
     "output_type": "stream",
     "text": [
      "Stored data for INTC\n",
      "Stored data for INTC\n",
      "Stored data for INTC\n",
      "Stored data for INTC\n"
     ]
    },
    {
     "name": "stderr",
     "output_type": "stream",
     "text": [
      "$INTC: possibly delisted; no price data found  (period=1d)\n"
     ]
    },
    {
     "name": "stdout",
     "output_type": "stream",
     "text": [
      "No data found for INTC. Skipping...\n",
      "   id symbol            timestamp       open       high        low      close  \\\n",
      "0   4   INTC  2025-03-06 17:43:03  20.670000  20.695000  20.660000  20.674400   \n",
      "1   3   INTC  2025-03-06 17:42:02  20.709900  20.719900  20.670000  20.670000   \n",
      "2   2   INTC  2025-03-06 17:41:01  20.695000  20.695000  20.695000  20.695000   \n",
      "3   1   INTC  2025-03-06 17:39:59  20.655001  20.655001  20.655001  20.655001   \n",
      "\n",
      "   volume  \n",
      "0   52687  \n",
      "1   88592  \n",
      "2       0  \n",
      "3       0  \n"
     ]
    }
   ],
   "source": [
    "# Example Usage\n",
    "symbol = \"INTC\" #Stocks for Intel Corporation\n",
    "\n",
    "for _ in range(5):  # fetch data 5 times at 1-minute intervals\n",
    "    store_data(symbol)\n",
    "    time.sleep(60)\n",
    "\n",
    "analyze_stock(symbol)\n",
    "\n",
    "# Close database connection\n",
    "conn.close()"
   ]
  },
  {
   "cell_type": "code",
   "execution_count": 6,
   "metadata": {},
   "outputs": [],
   "source": [
    "#-------------------------------------------------------------------TASK 3 -------------------------------------------------------------------"
   ]
  },
  {
   "cell_type": "code",
   "execution_count": 7,
   "metadata": {},
   "outputs": [],
   "source": [
    "import requests\n",
    "from bs4 import BeautifulSoup"
   ]
  },
  {
   "cell_type": "code",
   "execution_count": 11,
   "metadata": {},
   "outputs": [
    {
     "name": "stdout",
     "output_type": "stream",
     "text": [
      "Data saved to books.csv\n",
      "                                                Title    Price Availability\n",
      "0                                A Light in the Attic  Â£51.77     In stock\n",
      "1                                  Tipping the Velvet  Â£53.74     In stock\n",
      "2                                          Soumission  Â£50.10     In stock\n",
      "3                                       Sharp Objects  Â£47.82     In stock\n",
      "4               Sapiens: A Brief History of Humankind  Â£54.23     In stock\n",
      "5                                     The Requiem Red  Â£22.65     In stock\n",
      "6   The Dirty Little Secrets of Getting Your Dream...  Â£33.34     In stock\n",
      "7   The Coming Woman: A Novel Based on the Life of...  Â£17.93     In stock\n",
      "8   The Boys in the Boat: Nine Americans and Their...  Â£22.60     In stock\n",
      "9                                     The Black Maria  Â£52.15     In stock\n",
      "10     Starving Hearts (Triangular Trade Trilogy, #1)  Â£13.99     In stock\n",
      "11                              Shakespeare's Sonnets  Â£20.66     In stock\n",
      "12                                        Set Me Free  Â£17.46     In stock\n",
      "13  Scott Pilgrim's Precious Little Life (Scott Pi...  Â£52.29     In stock\n",
      "14                          Rip it Up and Start Again  Â£35.02     In stock\n",
      "15  Our Band Could Be Your Life: Scenes from the A...  Â£57.25     In stock\n",
      "16                                               Olio  Â£23.88     In stock\n",
      "17  Mesaerion: The Best Science Fiction Stories 18...  Â£37.59     In stock\n",
      "18                       Libertarianism for Beginners  Â£51.33     In stock\n",
      "19                            It's Only the Himalayas  Â£45.17     In stock\n"
     ]
    }
   ],
   "source": [
    "URL = \"http://books.toscrape.com/\"\n",
    "HEADERS = {\"User-Agent\": \"Mozilla/5.0\"}\n",
    "def get_books(url):\n",
    "    response = requests.get(url, headers=HEADERS)\n",
    "    soup = BeautifulSoup(response.text, \"html.parser\")\n",
    "    books = soup.find_all(\"article\", class_=\"product_pod\")\n",
    "    book_list = []\n",
    "    for book in books:\n",
    "        title = book.h3.a[\"title\"]\n",
    "        price = book.find(\"p\", class_=\"price_color\").text\n",
    "        stock = book.find(\"p\", class_=\"instock availability\").text.strip()\n",
    "        book_list.append({\"Title\": title, \"Price\": price, \"Availability\":\n",
    "        stock})\n",
    "    return book_list\n",
    "\n",
    "books_data = get_books(URL)\n",
    "df = pd.DataFrame(books_data)\n",
    "df.to_csv(\"books.csv\", index=False)\n",
    "print(\"Data saved to books.csv\")\n",
    "print(df)"
   ]
  },
  {
   "cell_type": "code",
   "execution_count": null,
   "metadata": {},
   "outputs": [],
   "source": []
  }
 ],
 "metadata": {
  "kernelspec": {
   "display_name": "Python 3",
   "language": "python",
   "name": "python3"
  },
  "language_info": {
   "codemirror_mode": {
    "name": "ipython",
    "version": 3
   },
   "file_extension": ".py",
   "mimetype": "text/x-python",
   "name": "python",
   "nbconvert_exporter": "python",
   "pygments_lexer": "ipython3",
   "version": "3.12.7"
  }
 },
 "nbformat": 4,
 "nbformat_minor": 2
}
