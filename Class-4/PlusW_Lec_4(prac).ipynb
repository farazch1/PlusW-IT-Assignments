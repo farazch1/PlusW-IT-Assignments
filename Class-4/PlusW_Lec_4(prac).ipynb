{
  "nbformat": 4,
  "nbformat_minor": 0,
  "metadata": {
    "colab": {
      "provenance": []
    },
    "kernelspec": {
      "name": "python3",
      "display_name": "Python 3"
    },
    "language_info": {
      "name": "python"
    }
  },
  "cells": [
    {
      "cell_type": "code",
      "execution_count": null,
      "metadata": {
        "colab": {
          "base_uri": "https://localhost:8080/"
        },
        "id": "WcWefh1Q59CO",
        "outputId": "ea511d2e-4f13-444f-a9ac-42e01b46dd17"
      },
      "outputs": [
        {
          "output_type": "stream",
          "name": "stdout",
          "text": [
            "THis is my function\n"
          ]
        }
      ],
      "source": [
        "def my_func():\n",
        "  print(\"THis is my function\")\n",
        "my_func()"
      ]
    },
    {
      "cell_type": "code",
      "source": [
        "def func_num():\n",
        "  return 4\n",
        "\n",
        "temp_var = func_num\n",
        "print(f\"the result from fucntion is {temp_var()}\")"
      ],
      "metadata": {
        "colab": {
          "base_uri": "https://localhost:8080/"
        },
        "id": "XlvJNRY26QmY",
        "outputId": "f42a25d8-0bc6-4cb7-dc75-55b4283d289a"
      },
      "execution_count": null,
      "outputs": [
        {
          "output_type": "stream",
          "name": "stdout",
          "text": [
            "the result from fucntion is 4\n"
          ]
        }
      ]
    },
    {
      "cell_type": "code",
      "source": [
        "def factorial_func(num):\n",
        "  if num==1:\n",
        "    return 1\n",
        "  return num * factorial_func(num - 1)"
      ],
      "metadata": {
        "id": "nig9QA-T6dxU"
      },
      "execution_count": null,
      "outputs": []
    },
    {
      "cell_type": "code",
      "source": [
        "def outer_func(num):\n",
        "  def inner_func(num):\n",
        "    return num * num\n",
        "  return inner_func\n",
        "\n",
        "t_var = outer_func(5)\n",
        "print(\"the answer is: \", t_var(5))"
      ],
      "metadata": {
        "colab": {
          "base_uri": "https://localhost:8080/"
        },
        "id": "_GsIfqxD8Xdw",
        "outputId": "ba971413-f4d7-4848-f541-bee773bcd4c2"
      },
      "execution_count": null,
      "outputs": [
        {
          "output_type": "stream",
          "name": "stdout",
          "text": [
            "the answer is:  25\n"
          ]
        }
      ]
    },
    {
      "cell_type": "code",
      "source": [
        "def hello(name):\n",
        "  \"\"\" this function says hello to any person \"\"\"\n",
        "  print(\"hello: \", name)\n",
        "\n",
        "hello(\"ahad\")\n",
        "print(help(hello))"
      ],
      "metadata": {
        "colab": {
          "base_uri": "https://localhost:8080/"
        },
        "id": "Wjr97g9I8sR4",
        "outputId": "0c4a15b1-5ee8-43be-ad77-45f48da98bc8"
      },
      "execution_count": null,
      "outputs": [
        {
          "output_type": "stream",
          "name": "stdout",
          "text": [
            "hello:  ahad\n",
            "Help on function hello in module __main__:\n",
            "\n",
            "hello(name)\n",
            "    this function says hello to any person\n",
            "\n",
            "None\n"
          ]
        }
      ]
    },
    {
      "cell_type": "code",
      "source": [
        "global_var = 10\n",
        "def test_func():\n",
        "  global global_var\n",
        "  global_var = 5\n",
        "  print(\"the globale var inside function is: \", global_var)\n",
        "test_func()\n",
        "print(\"the glocal var is: \", global_var)"
      ],
      "metadata": {
        "colab": {
          "base_uri": "https://localhost:8080/"
        },
        "id": "ha6LHT3Q9_1D",
        "outputId": "f8dbced9-7bbf-4e9d-98da-07f8a45d7437"
      },
      "execution_count": null,
      "outputs": [
        {
          "output_type": "stream",
          "name": "stdout",
          "text": [
            "the globale var inside function is:  5\n",
            "the glocal var is:  5\n"
          ]
        }
      ]
    },
    {
      "cell_type": "code",
      "source": [
        "import numpy as np\n",
        "\n",
        "nu_array = np.array([1, 2, 3, 4, 5, 6])\n",
        "\n",
        "print(\"numpy array is: \", nu_array)\n",
        "\n",
        "nu_array = np.zeros((3, 3))\n",
        "\n",
        "print(\"the changed array is: \",nu_array)\n",
        "\n",
        "nu_array = np.ones((5, 4))\n",
        "\n",
        "print(\"the ones array is: \",nu_array)\n",
        "\n",
        "nu_array = np.full((5,3), 8)\n",
        "\n",
        "print(\"the full array is: \",nu_array)\n",
        "\n",
        "nu_array = np.eye(5)\n",
        "\n",
        "print(\"the unit matrix is: \",nu_array)\n",
        "\n",
        "nu_array = np.arange(1,10,2)\n",
        "\n",
        "print(\"the arranged array is: \", nu_array)"
      ],
      "metadata": {
        "colab": {
          "base_uri": "https://localhost:8080/"
        },
        "id": "evG8BliI_IO0",
        "outputId": "98632f05-18b0-4cf1-84a7-44fff33382c3"
      },
      "execution_count": null,
      "outputs": [
        {
          "output_type": "stream",
          "name": "stdout",
          "text": [
            "numpy array is:  [1 2 3 4 5 6]\n",
            "the changed array is:  [[0. 0. 0.]\n",
            " [0. 0. 0.]\n",
            " [0. 0. 0.]]\n",
            "the ones array is:  [[1. 1. 1. 1.]\n",
            " [1. 1. 1. 1.]\n",
            " [1. 1. 1. 1.]\n",
            " [1. 1. 1. 1.]\n",
            " [1. 1. 1. 1.]]\n",
            "the full array is:  [[8 8 8]\n",
            " [8 8 8]\n",
            " [8 8 8]\n",
            " [8 8 8]\n",
            " [8 8 8]]\n",
            "the unit matrix is:  [[1. 0. 0. 0. 0.]\n",
            " [0. 1. 0. 0. 0.]\n",
            " [0. 0. 1. 0. 0.]\n",
            " [0. 0. 0. 1. 0.]\n",
            " [0. 0. 0. 0. 1.]]\n",
            "the arranged array is:  [1 3 5 7 9]\n"
          ]
        }
      ]
    },
    {
      "cell_type": "code",
      "source": [
        "random_arr = np.random.rand(3,3)\n",
        "\n",
        "print(random_arr)"
      ],
      "metadata": {
        "colab": {
          "base_uri": "https://localhost:8080/"
        },
        "id": "zb-ZCeY0BMyT",
        "outputId": "5b33fe42-7314-4a99-8d85-496ed8cdd29e"
      },
      "execution_count": null,
      "outputs": [
        {
          "output_type": "stream",
          "name": "stdout",
          "text": [
            "[[0.39357112 0.80278734 0.83614986]\n",
            " [0.61550119 0.69098877 0.25618724]\n",
            " [0.83981678 0.71335998 0.82415597]]\n"
          ]
        }
      ]
    },
    {
      "cell_type": "code",
      "source": [
        "random_arr = np.random.randint(1,15,(3,3))\n",
        "print(random_arr)"
      ],
      "metadata": {
        "colab": {
          "base_uri": "https://localhost:8080/"
        },
        "id": "yzsC61W2D0is",
        "outputId": "018d6f41-a7ea-41c1-958c-5803cc9e6a68"
      },
      "execution_count": null,
      "outputs": [
        {
          "output_type": "stream",
          "name": "stdout",
          "text": [
            "[[12  7 12]\n",
            " [13  1 10]\n",
            " [ 3  7 10]]\n"
          ]
        }
      ]
    },
    {
      "cell_type": "code",
      "source": [
        "random_arr = np.random.randint(1,15,(3,3))\n",
        "print(\"random arrays: \",random_arr)\n",
        "print(\"its shape is :\", random_arr.shape)"
      ],
      "metadata": {
        "colab": {
          "base_uri": "https://localhost:8080/"
        },
        "id": "O369JSuGEHsI",
        "outputId": "d612f8fb-2861-4bd3-a538-459fcadf6f95"
      },
      "execution_count": null,
      "outputs": [
        {
          "output_type": "stream",
          "name": "stdout",
          "text": [
            "random arrays:  [[12 14 12]\n",
            " [14  7 13]\n",
            " [ 7  9  5]]\n",
            "its shape is : (3, 3)\n"
          ]
        }
      ]
    },
    {
      "cell_type": "code",
      "source": [
        "t_var = np.array([1, 2, 3, 4, 5, 6])\n",
        "t_var = t_var.reshape(2,3)\n",
        "print(\"rearranged t_var is: \",t_var)"
      ],
      "metadata": {
        "colab": {
          "base_uri": "https://localhost:8080/"
        },
        "id": "5ugMSP3EEerM",
        "outputId": "f98d9126-3a4d-431c-a401-52c4b80c7d21"
      },
      "execution_count": null,
      "outputs": [
        {
          "output_type": "stream",
          "name": "stdout",
          "text": [
            "rearranged t_var is:  [[1 2 3]\n",
            " [4 5 6]]\n"
          ]
        }
      ]
    },
    {
      "cell_type": "code",
      "source": [
        "arr1 = np.array([1, 2, 3, 4, 5])\n",
        "arr2 = np.array([2, 2, 2, 2, 2])\n",
        "\n",
        "print(\"the sum of both arrays is: \", arr1 + arr2)\n",
        "print(\"the sqrt of array 2 is: \", np.sqrt(arr2))\n",
        "print(\"the minimum of array1 is: \", np.min(arr1))"
      ],
      "metadata": {
        "colab": {
          "base_uri": "https://localhost:8080/"
        },
        "id": "gaDIhrjrEw5Y",
        "outputId": "a771d24d-9bd4-4524-d771-338203cbd6e0"
      },
      "execution_count": null,
      "outputs": [
        {
          "output_type": "stream",
          "name": "stdout",
          "text": [
            "the sum of both arrays is:  [3 4 5 6 7]\n",
            "the sqrt of array 2 is:  [1.41421356 1.41421356 1.41421356 1.41421356 1.41421356]\n",
            "the minimum of array1 is:  1\n"
          ]
        }
      ]
    },
    {
      "cell_type": "code",
      "source": [],
      "metadata": {
        "id": "iDRG9XKJFvnz"
      },
      "execution_count": null,
      "outputs": []
    }
  ]
}